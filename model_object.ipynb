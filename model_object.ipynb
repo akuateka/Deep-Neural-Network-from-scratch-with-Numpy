{
 "cells": [
  {
   "cell_type": "code",
   "execution_count": 1,
   "id": "6bb8880d-d381-4f49-ae81-9ea7fd19f786",
   "metadata": {},
   "outputs": [],
   "source": [
    "import os\n",
    "import urllib\n",
    "import urllib.request\n",
    "from nnfs.datasets import spiral_data"
   ]
  },
  {
   "cell_type": "code",
   "execution_count": 2,
   "id": "095a8a2c-a385-42d2-b87e-4dac672320a8",
   "metadata": {},
   "outputs": [],
   "source": [
    "from nnfs.datasets import sine_data\n",
    "X, y = sine_data()\n",
    "\n",
    "# transpose the matrices\n",
    "X = X.T\n",
    "y = y.T"
   ]
  },
  {
   "cell_type": "code",
   "execution_count": 3,
   "id": "6858e2cd-887d-4c53-9eb7-c31640b14a20",
   "metadata": {},
   "outputs": [
    {
     "name": "stdout",
     "output_type": "stream",
     "text": [
      "X shape =  (1, 1000)\n",
      "y shape =  (1, 1000)\n"
     ]
    }
   ],
   "source": [
    "print(\"X shape = \", X.shape)\n",
    "print(\"y shape = \", y.shape)"
   ]
  },
  {
   "cell_type": "code",
   "execution_count": 4,
   "id": "4b47722f-91f3-4511-b1e7-ea6bc85be45e",
   "metadata": {},
   "outputs": [],
   "source": [
    "from NN_ClassModel import*"
   ]
  },
  {
   "cell_type": "code",
   "execution_count": 5,
   "id": "ad8cb638-5a06-4930-a6e5-f3dfb7d8b230",
   "metadata": {},
   "outputs": [],
   "source": [
    "n_neurons_h = 64\n",
    "n_neurons_o = 1"
   ]
  },
  {
   "cell_type": "raw",
   "id": "563c1942-f548-410c-84b4-ab8bcfc8a2d4",
   "metadata": {
    "tags": []
   },
   "source": [
    "# Instantiate the model\n",
    "model = Model()\n",
    "\n",
    "# Add layers\n",
    "model.add(Layer_Dense( 64 , 1 ))\n",
    "model.add(Activation_ReLU())\n",
    "model.add(Layer_Dense( 64 , 64 ))\n",
    "model.add(Activation_ReLU())\n",
    "model.add(Layer_Dense( 1 , 64 ))\n",
    "model.add(Activation_Linear())\n",
    "\n",
    "# Set loss, optimizer and accuracy objects\n",
    "model.set(\n",
    "loss = Loss_MeanSquaredError(),\n",
    "optimizer = Optimizer_Adam(learning_rate = 0.005 , decay = 1e-3),\n",
    "accuracy = Accuracy_Regression()\n",
    ")\n",
    "\n",
    "# Finalize the model\n",
    "model.finalize()\n",
    "\n",
    "# Train the model\n",
    "model.fit(X, y, epochs = 10000 , print_every = 100)"
   ]
  },
  {
   "cell_type": "raw",
   "id": "0d19f80a-99c9-4eb5-954e-7e0add55c792",
   "metadata": {},
   "source": [
    "URL = 'https://nnfs.io/datasets/fashion_mnist_images.zip'\n",
    "FILE = 'fashion_mnist_images.zip'\n",
    "FOLDER = 'fashion_mnist_images'\n",
    "\n",
    "if not os.path.isfile(FILE):\n",
    "    print (f'Downloading {URL} and saving as {FILE} ...')\n",
    "    urllib.request.urlretrieve(URL, FILE)\n",
    "\n",
    "from zipfile import ZipFile\n",
    "\n",
    "print ( 'Unzipping images...' )\n",
    "with ZipFile(FILE) as zip_images:\n",
    "    zip_images.extractall(FOLDER)\n",
    "print ( 'Done!' )"
   ]
  },
  {
   "cell_type": "code",
   "execution_count": 6,
   "id": "65f7bb3f-a74b-464a-ac25-983919e3bcb9",
   "metadata": {},
   "outputs": [
    {
     "data": {
      "image/png": "[encoded data removed]",
      "text/plain": [
       "<Figure size 432x288 with 1 Axes>"
      ]
     },
     "metadata": {
      "needs_background": "light"
     },
     "output_type": "display_data"
    }
   ],
   "source": [
    "# load the image data:\n",
    "import cv2\n",
    "\n",
    "image_data = cv2.imread('fashion_mnist_images/train/7/0002.png', cv2.IMREAD_UNCHANGED)\n",
    "\n",
    "import matplotlib.pyplot as plt\n",
    "plt.imshow(image_data)\n",
    "plt.show()"
   ]
  },
  {
   "cell_type": "code",
   "execution_count": 7,
   "id": "84861037-7a3e-4ef1-ab3c-e549d5f8497c",
   "metadata": {},
   "outputs": [],
   "source": [
    "# Scan all the directories and create a list of labels\n",
    "labels = os.listdir('fashion_mnist_images/train')\n",
    "\n",
    "# Loads a MNIST dataset\n",
    "def load_mnist_dataset(dataset , path):\n",
    "    \n",
    "    # Scan all the directories and create a list of labels\n",
    "    labels = os.listdir(os.path.join(path, dataset))\n",
    "\n",
    "    # Create lists for samples and labels\n",
    "    X = []\n",
    "    y = []\n",
    "\n",
    "    # For each label folder\n",
    "    for label in labels:\n",
    "        \n",
    "        # And for each image in given folder\n",
    "        for file in os.listdir(os.path.join(path, dataset, label)):\n",
    "        \n",
    "            # Read the image\n",
    "            image = cv2.imread(os.path.join(path, dataset, label, file), cv2.IMREAD_UNCHANGED)\n",
    "\n",
    "            # And append it and a label to the lists\n",
    "            X.append(image)\n",
    "            y.append(label)\n",
    "    # Convert the data to proper numpy arrays and return\n",
    "    return np.array(X), np.array(y).astype('uint8')"
   ]
  },
  {
   "cell_type": "code",
   "execution_count": 8,
   "id": "e9237d39-9776-4d34-a3fa-29e6924016c1",
   "metadata": {},
   "outputs": [],
   "source": [
    "# MNIST dataset (train + test)\n",
    "def create_data_mnist(path):\n",
    "    \n",
    "    # Load both sets separately\n",
    "    X, y = load_mnist_dataset('train' , path)\n",
    "    X_test, y_test = load_mnist_dataset('test' , path)\n",
    "    \n",
    "    # And return all the data\n",
    "    return X, y, X_test, y_test"
   ]
  },
  {
   "cell_type": "code",
   "execution_count": 9,
   "id": "1c52eacd-d98b-423c-a173-a3df0087a916",
   "metadata": {},
   "outputs": [
    {
     "name": "stdout",
     "output_type": "stream",
     "text": [
      "the shape of X : (60000, 28, 28)\n",
      "the shape of y : (60000,)\n",
      "the shape of X_test : (10000, 28, 28)\n",
      "the shape of y_test : (10000,)\n"
     ]
    }
   ],
   "source": [
    "X, y, X_test, y_test = create_data_mnist('fashion_mnist_images')\n",
    "\n",
    "print('the shape of X :', X.shape)\n",
    "print('the shape of y :', y.shape)\n",
    "print('the shape of X_test :', X_test.shape)\n",
    "print('the shape of y_test :', y_test.shape)"
   ]
  },
  {
   "cell_type": "code",
   "execution_count": 10,
   "id": "a967ed95-2792-4498-a454-6740fb52f71c",
   "metadata": {},
   "outputs": [],
   "source": [
    "# Shuffle the training dataset\n",
    "keys = np.array(range(X.shape[0]))\n",
    "np.random.shuffle(keys)\n",
    "X = X[keys]\n",
    "y = y[keys]\n",
    "# \n",
    "# Scale and reshape samples\n",
    "X = X/255\n",
    "X_test = X_test/255 "
   ]
  },
  {
   "cell_type": "code",
   "execution_count": 11,
   "id": "825b5cb1-cbea-447b-9a0d-d862dd46995d",
   "metadata": {},
   "outputs": [],
   "source": [
    "X = X.reshape(X.shape[0], -1)\n",
    "y = y.reshape(y.shape[0], 1)\n",
    "X = X.T\n",
    "y = y.T"
   ]
  },
  {
   "cell_type": "code",
   "execution_count": 12,
   "id": "aa6dbb82-61bf-4305-bf45-b1b772f0c87a",
   "metadata": {},
   "outputs": [],
   "source": [
    "X_test = X_test.reshape(X_test.shape[0], -1)\n",
    "y_test = y_test.reshape(y_test.shape[0], 1)\n",
    "X_test = X_test.T\n",
    "y_test = y_test.T"
   ]
  },
  {
   "cell_type": "code",
   "execution_count": 13,
   "id": "255cf2ec-95bb-48d6-8f04-acc29ca8734c",
   "metadata": {},
   "outputs": [
    {
     "name": "stdout",
     "output_type": "stream",
     "text": [
      "the shape of X : (784, 60000)\n",
      "the shape of y : (1, 60000)\n",
      "the shape of X_test : (784, 10000)\n",
      "the shape of y_test : (1, 10000)\n"
     ]
    }
   ],
   "source": [
    "print('the shape of X :', X.shape)\n",
    "print('the shape of y :', y.shape)\n",
    "print('the shape of X_test :', X_test.shape)\n",
    "print('the shape of y_test :', y_test.shape)"
   ]
  },
  {
   "cell_type": "raw",
   "id": "03b4387a-3452-4e76-b5a8-0eaf526b04bf",
   "metadata": {},
   "source": [
    "# Create dataset\n",
    "X, y = spiral_data( samples = 100 , classes = 3)\n",
    "\n",
    "# Create test dataset\n",
    "X_test, y_test = spiral_data( samples = 100 , classes = 3)\n",
    "X = X.T\n",
    "y = y.T\n",
    "X_test = X_test.T\n",
    "y_test = y_test.T"
   ]
  },
  {
   "cell_type": "code",
   "execution_count": 14,
   "id": "e0694943-b56a-4468-bfe9-0376f128e9d1",
   "metadata": {
    "scrolled": true,
    "tags": []
   },
   "outputs": [
    {
     "name": "stdout",
     "output_type": "stream",
     "text": [
      "[===] step: 0- loss: 2.303 (data_loss: 2.3005, reg loss: 0.002) - accuracy: 0.141 - lr: 0.001\n",
      "[===] step: 100- loss: 0.8639 (data_loss: 0.8291, reg loss: 0.035) - accuracy: 0.672 - lr: 0.000995\n",
      "[===] step: 200- loss: 0.6419 (data_loss: 0.5968, reg loss: 0.045) - accuracy: 0.82 - lr: 0.00099\n",
      "[===] step: 300- loss: 0.6354 (data_loss: 0.5854, reg loss: 0.05) - accuracy: 0.773 - lr: 0.000985\n",
      "[===] step: 400- loss: 0.6406 (data_loss: 0.5882, reg loss: 0.052) - accuracy: 0.828 - lr: 0.00098\n",
      "\t✅: [██████████] 466/468 steps done\n",
      "\t✅: [██████████] 467/468 steps done\n",
      "[===] step: 468- loss: 0.5755 (data_loss: 0.5221, reg loss: 0.053) - accuracy: 0.833 - lr: 0.000977\n",
      "\t✅: [██████████] 468/468 steps done\n",
      "Epoch 1/5\n",
      "[=====Training] - loss: 0.7819 (data_loss: 0.7284, reg loss: 0.053) - accuracy: 0.75 - lr: 0.000977\n",
      "***** Validation:  - validation_loss: 0.5281 - validation_accuracy: 0.817\n",
      "\n",
      "\n",
      "[===] step: 0- loss: 0.5707 (data_loss: 0.5173, reg loss: 0.053) - accuracy: 0.82 - lr: 0.000977\n",
      "[===] step: 100- loss: 0.5586 (data_loss: 0.5043, reg loss: 0.054) - accuracy: 0.82 - lr: 0.000972\n",
      "[===] step: 200- loss: 0.5617 (data_loss: 0.5074, reg loss: 0.054) - accuracy: 0.82 - lr: 0.000968\n",
      "[===] step: 300- loss: 0.54 (data_loss: 0.4862, reg loss: 0.054) - accuracy: 0.805 - lr: 0.000963\n",
      "[===] step: 400- loss: 0.568 (data_loss: 0.5138, reg loss: 0.054) - accuracy: 0.859 - lr: 0.000958\n",
      "\t✅: [██████████] 466/468 steps done\n",
      "\t✅: [██████████] 467/468 steps done\n",
      "[===] step: 468- loss: 0.5227 (data_loss: 0.4686, reg loss: 0.054) - accuracy: 0.875 - lr: 0.000955\n",
      "\t✅: [██████████] 468/468 steps done\n",
      "Epoch 2/5\n",
      "[=====Training] - loss: 0.5258 (data_loss: 0.4716, reg loss: 0.054) - accuracy: 0.839 - lr: 0.000955\n",
      "***** Validation:  - validation_loss: 0.4751 - validation_accuracy: 0.833\n",
      "\n",
      "\n",
      "[===] step: 0- loss: 0.4958 (data_loss: 0.4417, reg loss: 0.054) - accuracy: 0.828 - lr: 0.000955\n",
      "[===] step: 100- loss: 0.5206 (data_loss: 0.4668, reg loss: 0.054) - accuracy: 0.836 - lr: 0.000951\n",
      "[===] step: 200- loss: 0.5248 (data_loss: 0.4714, reg loss: 0.053) - accuracy: 0.844 - lr: 0.000946\n",
      "[===] step: 300- loss: 0.5004 (data_loss: 0.4477, reg loss: 0.053) - accuracy: 0.828 - lr: 0.000942\n",
      "[===] step: 400- loss: 0.5343 (data_loss: 0.4815, reg loss: 0.053) - accuracy: 0.875 - lr: 0.000937\n",
      "\t✅: [██████████] 466/468 steps done\n",
      "\t✅: [██████████] 467/468 steps done\n",
      "[===] step: 468- loss: 0.5038 (data_loss: 0.4511, reg loss: 0.053) - accuracy: 0.896 - lr: 0.000934\n",
      "\t✅: [██████████] 468/468 steps done\n",
      "Epoch 3/5\n",
      "[=====Training] - loss: 0.4843 (data_loss: 0.4316, reg loss: 0.053) - accuracy: 0.851 - lr: 0.000934\n",
      "***** Validation:  - validation_loss: 0.4509 - validation_accuracy: 0.84\n",
      "\n",
      "\n",
      "[===] step: 0- loss: 0.471 (data_loss: 0.4183, reg loss: 0.053) - accuracy: 0.828 - lr: 0.000934\n",
      "[===] step: 100- loss: 0.5007 (data_loss: 0.4485, reg loss: 0.052) - accuracy: 0.852 - lr: 0.00093\n",
      "[===] step: 200- loss: 0.5 (data_loss: 0.4483, reg loss: 0.052) - accuracy: 0.844 - lr: 0.000926\n",
      "[===] step: 300- loss: 0.4795 (data_loss: 0.4285, reg loss: 0.051) - accuracy: 0.828 - lr: 0.000921\n",
      "[===] step: 400- loss: 0.5141 (data_loss: 0.4629, reg loss: 0.051) - accuracy: 0.867 - lr: 0.000917\n",
      "\t✅: [██████████] 466/468 steps done\n",
      "\t✅: [██████████] 467/468 steps done\n",
      "[===] step: 468- loss: 0.4915 (data_loss: 0.4403, reg loss: 0.051) - accuracy: 0.896 - lr: 0.000914\n",
      "\t✅: [██████████] 468/468 steps done\n",
      "Epoch 4/5\n",
      "[=====Training] - loss: 0.4624 (data_loss: 0.4112, reg loss: 0.051) - accuracy: 0.858 - lr: 0.000914\n",
      "***** Validation:  - validation_loss: 0.4393 - validation_accuracy: 0.846\n",
      "\n",
      "\n",
      "[===] step: 0- loss: 0.4624 (data_loss: 0.4112, reg loss: 0.051) - accuracy: 0.82 - lr: 0.000914\n",
      "[===] step: 100- loss: 0.476 (data_loss: 0.4254, reg loss: 0.051) - accuracy: 0.859 - lr: 0.00091\n",
      "[===] step: 200- loss: 0.4845 (data_loss: 0.4341, reg loss: 0.05) - accuracy: 0.859 - lr: 0.000906\n",
      "[===] step: 300- loss: 0.4659 (data_loss: 0.4162, reg loss: 0.05) - accuracy: 0.844 - lr: 0.000902\n",
      "[===] step: 400- loss: 0.4966 (data_loss: 0.4467, reg loss: 0.05) - accuracy: 0.852 - lr: 0.000898\n",
      "\t✅: [██████████] 466/468 steps done\n",
      "\t✅: [██████████] 467/468 steps done\n",
      "[===] step: 468- loss: 0.4833 (data_loss: 0.4333, reg loss: 0.05) - accuracy: 0.896 - lr: 0.000895\n",
      "\t✅: [██████████] 468/468 steps done\n",
      "Epoch 5/5\n",
      "[=====Training] - loss: 0.4468 (data_loss: 0.3968, reg loss: 0.05) - accuracy: 0.862 - lr: 0.000895\n",
      "***** Validation:  - validation_loss: 0.4324 - validation_accuracy: 0.849\n",
      "\n",
      "\n"
     ]
    }
   ],
   "source": [
    "# Instantiate the model\n",
    "model = Model()\n",
    "\n",
    "# Add layers\n",
    "model.add(Layer_Dense(64, X.shape[0], weight_regularizer_L2 = 5e-4 ,bias_regularizer_L2 = 5e-4))\n",
    "model.add(Activation_ReLU())\n",
    "# model.add(Layer_Dense( 64 , 64 ))\n",
    "# model.add(Activation_ReLU())\n",
    "model.add(Layer_Dense(10 , 64 ))\n",
    "model.add(Activation_Softmax())\n",
    "\n",
    "# Set loss, optimizer and accuracy objects\n",
    "model.set(\n",
    "loss = Loss_CategoricalCrossentropy(),\n",
    "optimizer = Optimizer_Adam( learning_rate = 0.001 , decay = 5e-5),\n",
    "accuracy = Accuracy_Categorical()\n",
    ")\n",
    "\n",
    "# Finalize the model\n",
    "model.finalize()\n",
    "\n",
    "# Train the model\n",
    "model.fit(X, y, epochs = 5, batch_size = 128, print_every = 100, validation_data=(X_test, y_test))"
   ]
  }
 ],
 "metadata": {
  "kernelspec": {
   "display_name": "Python 3 (ipykernel)",
   "language": "python",
   "name": "python3"
  },
  "language_info": {
   "codemirror_mode": {
    "name": "ipython",
    "version": 3
   },
   "file_extension": ".py",
   "mimetype": "text/x-python",
   "name": "python",
   "nbconvert_exporter": "python",
   "pygments_lexer": "ipython3",
   "version": "3.9.12"
  }
 },
 "nbformat": 4,
 "nbformat_minor": 5
}
